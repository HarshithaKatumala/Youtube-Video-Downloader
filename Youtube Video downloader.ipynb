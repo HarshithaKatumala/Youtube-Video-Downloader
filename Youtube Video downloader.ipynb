{
  "nbformat": 4,
  "nbformat_minor": 0,
  "metadata": {
    "colab": {
      "provenance": []
    },
    "kernelspec": {
      "name": "python3",
      "display_name": "Python 3"
    },
    "language_info": {
      "name": "python"
    }
  },
  "cells": [
    {
      "cell_type": "code",
      "execution_count": 24,
      "metadata": {
        "colab": {
          "base_uri": "https://localhost:8080/"
        },
        "id": "-am2B23QbRQO",
        "outputId": "85522b32-a96d-48ed-ae35-edc9cfff1602"
      },
      "outputs": [
        {
          "output_type": "stream",
          "name": "stdout",
          "text": [
            "Requirement already satisfied: pytube3 in /usr/local/lib/python3.10/dist-packages (9.6.4)\n",
            "Requirement already satisfied: typing-extensions in /usr/local/lib/python3.10/dist-packages (from pytube3) (4.12.2)\n"
          ]
        }
      ],
      "source": [
        "pip install pytube3"
      ]
    },
    {
      "cell_type": "code",
      "source": [
        "pip install --upgrade pytube"
      ],
      "metadata": {
        "colab": {
          "base_uri": "https://localhost:8080/"
        },
        "id": "WS-IGrKibgGl",
        "outputId": "221a781a-e524-4775-c8ca-b34e56d9df50"
      },
      "execution_count": 25,
      "outputs": [
        {
          "output_type": "stream",
          "name": "stdout",
          "text": [
            "Requirement already satisfied: pytube in /usr/local/lib/python3.10/dist-packages (15.0.0)\n"
          ]
        }
      ]
    },
    {
      "cell_type": "code",
      "source": [
        "from pytube import YouTube"
      ],
      "metadata": {
        "id": "4SqyNWaKbp4e"
      },
      "execution_count": 10,
      "outputs": []
    },
    {
      "cell_type": "code",
      "source": [
        "pip install yt-dlp"
      ],
      "metadata": {
        "colab": {
          "base_uri": "https://localhost:8080/"
        },
        "id": "iM2-IwZfbqPN",
        "outputId": "fdceb8f4-79f3-4eda-a728-26b2dbdb5b48"
      },
      "execution_count": 11,
      "outputs": [
        {
          "output_type": "stream",
          "name": "stdout",
          "text": [
            "Requirement already satisfied: yt-dlp in /usr/local/lib/python3.10/dist-packages (2024.8.6)\n",
            "Requirement already satisfied: brotli in /usr/local/lib/python3.10/dist-packages (from yt-dlp) (1.1.0)\n",
            "Requirement already satisfied: certifi in /usr/local/lib/python3.10/dist-packages (from yt-dlp) (2024.7.4)\n",
            "Requirement already satisfied: mutagen in /usr/local/lib/python3.10/dist-packages (from yt-dlp) (1.47.0)\n",
            "Requirement already satisfied: pycryptodomex in /usr/local/lib/python3.10/dist-packages (from yt-dlp) (3.20.0)\n",
            "Requirement already satisfied: requests<3,>=2.32.2 in /usr/local/lib/python3.10/dist-packages (from yt-dlp) (2.32.3)\n",
            "Requirement already satisfied: urllib3<3,>=1.26.17 in /usr/local/lib/python3.10/dist-packages (from yt-dlp) (2.0.7)\n",
            "Requirement already satisfied: websockets>=12.0 in /usr/local/lib/python3.10/dist-packages (from yt-dlp) (13.0.1)\n",
            "Requirement already satisfied: charset-normalizer<4,>=2 in /usr/local/lib/python3.10/dist-packages (from requests<3,>=2.32.2->yt-dlp) (3.3.2)\n",
            "Requirement already satisfied: idna<4,>=2.5 in /usr/local/lib/python3.10/dist-packages (from requests<3,>=2.32.2->yt-dlp) (3.8)\n"
          ]
        }
      ]
    },
    {
      "cell_type": "code",
      "source": [
        "link=input(\"Enter youTube videos\")\n",
        "yt=YouTube(link)"
      ],
      "metadata": {
        "colab": {
          "base_uri": "https://localhost:8080/"
        },
        "id": "3h42vhXPbqRs",
        "outputId": "391dafca-39b7-4c3f-9671-fde219762d1e"
      },
      "execution_count": 15,
      "outputs": [
        {
          "name": "stdout",
          "output_type": "stream",
          "text": [
            "Enter youTube videos'https://www.youtube.com/watch?v=eDN6fAWLNNE&t=5432s&#39;\n"
          ]
        }
      ]
    },
    {
      "cell_type": "code",
      "source": [
        "print(\"Title :\",yt.title)\n",
        "print(\"Views :\",yt.views)\n",
        "print(\"Duration :\",yt.length)\n",
        "print(\"Description :\",yt.description)\n",
        "print(\"Rating :\",yt.rating)"
      ],
      "metadata": {
        "colab": {
          "base_uri": "https://localhost:8080/"
        },
        "id": "29xZp5S-bqUA",
        "outputId": "e5039b24-2844-4888-d0fd-2dfc0a8196fb"
      },
      "execution_count": 16,
      "outputs": [
        {
          "output_type": "stream",
          "name": "stdout",
          "text": [
            "Title : Generative AI for Build LLM Model Using Lama 3,Hugging Face & Ollama | NareshIT\n",
            "Views : 2476\n",
            "Duration : 8456\n",
            "Description : None\n",
            "Rating : None\n"
          ]
        }
      ]
    },
    {
      "cell_type": "code",
      "source": [
        "from yt_dlp import YoutubeDL\n",
        "\n",
        "download_option = input(\"Do you want to download this video? (yes/no): \").lower()\n",
        "\n",
        "if download_option == \"yes\":\n",
        "    url = 'https://www.youtube.com/watch?v=eDN6fAWLNNE&t=5432s&#39';\n",
        "    ydl_opts = {'format': 'best'}\n",
        "    with YoutubeDL(ydl_opts) as ydl:\n",
        "        print(\"Downloading...\")\n",
        "        ydl.download([url])\n",
        "        print(\"Download completed.\")\n",
        "else:\n",
        "    print(\"Download aborted.\")"
      ],
      "metadata": {
        "colab": {
          "base_uri": "https://localhost:8080/"
        },
        "id": "DBrCcr9fbqXK",
        "outputId": "78754273-1979-4e03-865f-eb6df9e3994a"
      },
      "execution_count": 18,
      "outputs": [
        {
          "output_type": "stream",
          "name": "stdout",
          "text": [
            "Do you want to download this video? (yes/no): yes\n",
            "Downloading...\n",
            "[youtube] Extracting URL: https://www.youtube.com/watch?v=eDN6fAWLNNE&t=5432s&#39\n",
            "[youtube] eDN6fAWLNNE: Downloading webpage\n",
            "[youtube] eDN6fAWLNNE: Downloading ios player API JSON\n",
            "[youtube] eDN6fAWLNNE: Downloading web creator player API JSON\n",
            "[youtube] eDN6fAWLNNE: Downloading player 3abab6ef\n",
            "[youtube] eDN6fAWLNNE: Downloading m3u8 information\n",
            "[info] eDN6fAWLNNE: Downloading 1 format(s): 18\n",
            "[download] Destination: Generative AI for Build LLM Model Using Lama 3,Hugging Face & Ollama ｜ NareshIT [eDN6fAWLNNE].mp4\n",
            "[download] 100% of  190.53MiB in 00:00:07 at 24.00MiB/s  \n",
            "Download completed.\n"
          ]
        }
      ]
    },
    {
      "cell_type": "code",
      "source": [],
      "metadata": {
        "id": "J8IYPUq_iyK-"
      },
      "execution_count": null,
      "outputs": []
    }
  ]
}